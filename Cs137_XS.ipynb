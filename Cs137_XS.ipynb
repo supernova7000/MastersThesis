{
 "cells": [
  {
   "cell_type": "code",
   "execution_count": 113,
   "id": "94705b27",
   "metadata": {},
   "outputs": [],
   "source": [
    "# Imports\n",
    "import matplotlib.pyplot as plt\n",
    "import csv\n",
    "import math"
   ]
  },
  {
   "cell_type": "code",
   "execution_count": 114,
   "id": "671e7fe2",
   "metadata": {},
   "outputs": [],
   "source": [
    "### Define General Variables"
   ]
  },
  {
   "cell_type": "code",
   "execution_count": 115,
   "id": "991e57c4",
   "metadata": {},
   "outputs": [],
   "source": [
    "# Define Constants\n",
    "G_F = 1.663788*10**(-5) *10**(-18)   # GeV-2 to eV-2\n",
    "Z = 30\n",
    "sin_w = 0.231\n",
    "T_0 = 0.241*10**(-3)  #eV\n",
    "Q = 1176   #keV\n",
    "hbar = 6.582119569 * 10**(-22) * 10**(6)   #MeV*s to eV*s\n",
    "c = 299792458 * 10**2   #m/s to cm/s"
   ]
  },
  {
   "cell_type": "code",
   "execution_count": 116,
   "id": "402a7974",
   "metadata": {},
   "outputs": [],
   "source": [
    "# Defining Min Energy Based on Heaviest Mass\n",
    "M = 63.271*10**9  #GeV to eV\n",
    "E_min = 0.5*T_0+0.5*math.sqrt(T_0**2 + 2*T_0*M)  #eV\n",
    "\n",
    "# Make Energy Spectrum\n",
    "energies = []\n",
    "for i in range(int(E_min*10**(-3))+1, int(Q)) :\n",
    "    energies.append(i* 10**(3))"
   ]
  },
  {
   "cell_type": "code",
   "execution_count": 117,
   "id": "2a5d8b4e",
   "metadata": {},
   "outputs": [],
   "source": [
    "### Define Isotopes Dependent Variables"
   ]
  },
  {
   "cell_type": "code",
   "execution_count": 118,
   "id": "940a4389",
   "metadata": {},
   "outputs": [],
   "source": [
    "# Isotope 64\n",
    "prob_64 = 0.486\n",
    "N_64 = 34\n",
    "M_64 = 59.550*10**9  #GeV to eV\n",
    "xs_64 = []"
   ]
  },
  {
   "cell_type": "code",
   "execution_count": 119,
   "id": "6773c8df",
   "metadata": {},
   "outputs": [],
   "source": [
    "# Isotope 66\n",
    "prob_66 = 0.279\n",
    "N_66 = 36\n",
    "M_66 = 61.410*10**9  #GeV to eV\n",
    "xs_66 = []"
   ]
  },
  {
   "cell_type": "code",
   "execution_count": 120,
   "id": "c0826ddc",
   "metadata": {},
   "outputs": [],
   "source": [
    "# Isotope 67\n",
    "prob_67 = 0.041\n",
    "N_67 = 37\n",
    "M_67 = 62.342*10**9  #GeV to eV\n",
    "xs_67 = []"
   ]
  },
  {
   "cell_type": "code",
   "execution_count": 121,
   "id": "0404ba26",
   "metadata": {},
   "outputs": [],
   "source": [
    "# Isotope 68\n",
    "prob_68 = 0.188\n",
    "N_68 = 38\n",
    "M_68 = 63.271*10**9  #GeV to eV\n",
    "xs_68 = []"
   ]
  },
  {
   "cell_type": "code",
   "execution_count": 122,
   "id": "2cc7a7a4",
   "metadata": {},
   "outputs": [],
   "source": [
    "### Compute Cross Section for all Energies"
   ]
  },
  {
   "cell_type": "code",
   "execution_count": 123,
   "id": "39abf9dc",
   "metadata": {},
   "outputs": [],
   "source": [
    "# Create Cross Section Function\n",
    "def XS(N, M, E):\n",
    "    Q_W = N-(1-4*sin_w)*Z\n",
    "    const_term = G_F**2 * Q_W**2 /(4*math.pi) * (hbar*c)**2 \n",
    "    T_max = E/(1+M/(2*E))\n",
    "    sigma = const_term * E**2 * (1-T_0/T_max)**2\n",
    "    return sigma"
   ]
  },
  {
   "cell_type": "code",
   "execution_count": 124,
   "id": "2c21bb61",
   "metadata": {},
   "outputs": [],
   "source": [
    "# Calculate Isotope Cross Sections\n",
    "for e in energies :\n",
    "    xs_64.append(XS(N_64, M_64, e))\n",
    "    xs_66.append(XS(N_66, M_66, e))\n",
    "    xs_67.append(XS(N_67, M_67, e))\n",
    "    xs_68.append(XS(N_68, M_68, e))"
   ]
  },
  {
   "cell_type": "code",
   "execution_count": 125,
   "id": "774f32e2",
   "metadata": {},
   "outputs": [],
   "source": [
    "# Calculate Total Cross Section\n",
    "xs_tot = []\n",
    "\n",
    "for i in range(0,len(xs_64)) :\n",
    "    tot = xs_64[i]*prob_64 + xs_66[i]*prob_66 + \\\n",
    "                     xs_67[i]*prob_67 + xs_68[i]*prob_68\n",
    "    xs_tot.append(tot)"
   ]
  },
  {
   "cell_type": "code",
   "execution_count": 126,
   "id": "2db0415b",
   "metadata": {},
   "outputs": [
    {
     "data": {
      "image/png": "[encoded data removed]",
      "text/plain": [
       "<Figure size 640x480 with 1 Axes>"
      ]
     },
     "metadata": {},
     "output_type": "display_data"
    }
   ],
   "source": [
    "# Plot Results\n",
    "kev = []\n",
    "for e in energies :\n",
    "    kev.append(e*10**(-3))\n",
    "    \n",
    "plt.plot(kev, xs_tot, color='black')\n",
    "plt.xlabel('Neutrino Energy (keV)')\n",
    "plt.ylabel('Cross Section (cm^2)')\n",
    "plt.yscale('log')\n",
    "plt.savefig('Cs-137_xs.png')"
   ]
  },
  {
   "cell_type": "code",
   "execution_count": 127,
   "id": "ed3de163",
   "metadata": {},
   "outputs": [],
   "source": [
    "# Download Data\n",
    "csv_file = 'cevns_xs_cs-137.csv'\n",
    "with open(csv_file, 'w', newline='') as file:\n",
    "    fieldnames = ['energy', 'xs']\n",
    "    writer = csv.DictWriter(file, fieldnames=fieldnames)\n",
    "    writer.writeheader()\n",
    "    for i in range(len(energies)) :\n",
    "        writer.writerow({'energy': energies[i], 'xs': xs_tot[i]})"
   ]
  },
  {
   "cell_type": "code",
   "execution_count": null,
   "id": "c22b93f6",
   "metadata": {},
   "outputs": [],
   "source": []
  }
 ],
 "metadata": {
  "kernelspec": {
   "display_name": "CEvNS",
   "language": "python",
   "name": "cevns"
  },
  "language_info": {
   "codemirror_mode": {
    "name": "ipython",
    "version": 3
   },
   "file_extension": ".py",
   "mimetype": "text/x-python",
   "name": "python",
   "nbconvert_exporter": "python",
   "pygments_lexer": "ipython3",
   "version": "3.10.9"
  }
 },
 "nbformat": 4,
 "nbformat_minor": 5
}
