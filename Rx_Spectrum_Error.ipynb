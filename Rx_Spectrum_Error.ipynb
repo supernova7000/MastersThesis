{
 "cells": [
  {
   "cell_type": "code",
   "execution_count": 51,
   "id": "fcc363bd",
   "metadata": {},
   "outputs": [],
   "source": [
    "# Imports\n",
    "import numpy as np"
   ]
  },
  {
   "cell_type": "code",
   "execution_count": 52,
   "id": "73e9a2d3",
   "metadata": {},
   "outputs": [],
   "source": [
    "### Define Variables"
   ]
  },
  {
   "cell_type": "code",
   "execution_count": 53,
   "id": "c5a4d3bc",
   "metadata": {},
   "outputs": [],
   "source": [
    "W_th = 2905 * 10**6 / (1.6*10**(-13))  # MW to MeV\n",
    "energy = np.linspace(2.00, 8.00, 25)   #MeV"
   ]
  },
  {
   "cell_type": "code",
   "execution_count": 54,
   "id": "1c860752",
   "metadata": {},
   "outputs": [],
   "source": [
    "# Fission Fractions (Used Early Core Values)\n",
    "e_235 = 0.7064\n",
    "e_238 = 0.0745\n",
    "e_239 = 0.1830\n",
    "e_241 = 0.0297"
   ]
  },
  {
   "cell_type": "code",
   "execution_count": 55,
   "id": "2dbe4eae",
   "metadata": {},
   "outputs": [],
   "source": [
    "# Antineutrinos/0.25 MeV/Fission\n",
    "N_235 = [1.31, 1.11, 0.927, 0.775, 0.651, 0.547, 0.449, 0.368, \\\n",
    "         0.288, 0.227, 0.177, 0.137, 0.109, 0.0854, 0.0656, \\\n",
    "         0.0499, 0.0368, 0.0274, 0.0207, 0.0156, 0.0111, 0.00691, \\\n",
    "         0.00430, 0.00278, 0.00149]\n",
    "\n",
    "N_238 = [1.48, 1.30, 1.15, 1.00, 0.876, 0.759, 0.642, 0.539, 0.451, \\\n",
    "        0.367, 0.293, 0.232, 0.183, 0.143, 0.110, 8.35*10**(-2), \\\n",
    "        6.21*10**(-2), 4.70*10**(-2), 3.58*10**(-2), 2.71*10**(-2), \\\n",
    "        1.95*10**(-2), 1.33*10**(-2), 8.65*10**(-3), 6.01*10**(-3), \\\n",
    "        3.84*10**(-3)]\n",
    "\n",
    "N_239 = [1.13, 0.919, 0.728, 0.613, 0.504, 0.410, 0.321, 0.254, 0.200,\\\n",
    "        0.151, 0.110, 7.97*10**(-2), 6.15*10**(-2), 4.68*10**(-2), \\\n",
    "        3.50*10**(-2), 2.55*10**(-2), 1.82*10**(-2), 1.32*10**(-2), \\\n",
    "        9.82*10**(-3), 7.32*10**(-3), 5.13*10**(-3), 3.15*10**(-3), \\\n",
    "        1.83*10**(-3), 1.03*10**(-3), 4.91*10**(-4)]\n",
    "\n",
    "N_241 = [1.27, 1.07, 0.906, 0.763, 0.639, 0.531, 0.433, 0.351, 0.282, \\\n",
    "        0.218, 0.165, 0.122, 9.59*10**(-2), 7.36*10**(-2), \\\n",
    "        5.52*10**(-2), 4.01*10**(-2), 2.81*10**(-2), 2.04*10**(-2), \\\n",
    "        1.50*10**(-2), 1.07*10**(-2), 7.20*10**(-3), 4.47*10**(-3), \\\n",
    "        2.54*10**(-3), 1.65*10**(-3), 9.63*10**(-4)]"
   ]
  },
  {
   "cell_type": "code",
   "execution_count": 56,
   "id": "22d823ba",
   "metadata": {},
   "outputs": [],
   "source": [
    "# Error on Individual Isotope Specta\n",
    "N_235_err = [0.021, 0.021, 0.021, 0.021, 0.021, 0.021, 0.023, 0.023, \\\n",
    "        0.023, 0.026, 0.026, 0.026, 0.028, 0.028, 0.038, 0.041, \\\n",
    "        0.041, 0.041, 0.041, 0.041, 0.041, 0.041, 0.044, 0.044, \\\n",
    "        0.047]\n",
    "\n",
    "N_239_err = [0.023, 0.023, 0.024, 0.024, 0.024, 0.024, 0.026, 0.026, \\\n",
    "        0.027, 0.029, 0.03, 0.03, 0.033, 0.033, 0.044, 0.046, 0.049, \\\n",
    "        0.05, 0.052, 0.052, 0.071, 0.092, 0.111, 0.157, 0.206]\n",
    "\n",
    "N_241_err = [0.022, 0.022, 0.022, 0.022, 0.022, 0.022, 0.024, 0.024, \\\n",
    "        0.025, 0.027, 0.028, 0.028, 0.031, 0.031, 0.043, 0.045, \\\n",
    "        0.047, 0.047, 0.049, 0.049, 0.053, 0.053, 0.057, 0.057, 0.07]"
   ]
  },
  {
   "cell_type": "code",
   "execution_count": 57,
   "id": "8eec8915",
   "metadata": {},
   "outputs": [],
   "source": [
    "### Calculate Spectrum"
   ]
  },
  {
   "cell_type": "code",
   "execution_count": 58,
   "id": "9722d28a",
   "metadata": {},
   "outputs": [],
   "source": [
    "# Energy per Fission\n",
    "E_235 = 202.36    #MeV\n",
    "E_238 = 205.99    #MeV\n",
    "E_239 = 211.12    #MeV\n",
    "E_241 = 214.26    #MeV\n",
    "e_factor = W_th/(e_235*E_235+e_238*E_238+e_239*E_239+e_241*E_241)"
   ]
  },
  {
   "cell_type": "code",
   "execution_count": 59,
   "id": "85913d55",
   "metadata": {},
   "outputs": [],
   "source": [
    "# Calculations\n",
    "total_early = []\n",
    "\n",
    "for i in range(len(energy)) :\n",
    "    e_sum = e_235*N_235[i]+e_238*N_238[i]+e_239*N_239[i]+e_241*N_241[i]\n",
    "    total_early.append(e_factor*e_sum)"
   ]
  },
  {
   "cell_type": "code",
   "execution_count": 60,
   "id": "e1e3ddfc",
   "metadata": {},
   "outputs": [],
   "source": [
    "### Lower Error"
   ]
  },
  {
   "cell_type": "code",
   "execution_count": 61,
   "id": "492014ad",
   "metadata": {},
   "outputs": [],
   "source": [
    "# Energy per Fission\n",
    "E_235_s = 202.36+0.26    #MeV\n",
    "E_238_s = 205.99+0.52    #MeV\n",
    "E_239_s = 211.12+0.34    #MeV\n",
    "E_241_s = 214.26+0.33    #MeV\n",
    "e_factor_s = W_th/(e_235*E_235_s+e_238*E_238_s+e_239*E_239_s+e_241*E_241_s)"
   ]
  },
  {
   "cell_type": "code",
   "execution_count": 62,
   "id": "f02cd202",
   "metadata": {},
   "outputs": [],
   "source": [
    "# Calculate Error\n",
    "total_early_s = []\n",
    "\n",
    "for i in range(len(energy)) :\n",
    "    x235 = N_235[i]-N_235_err[i]*N_235[i]\n",
    "    x238 = N_238[i]-N_239_err[i]*N_238[i]\n",
    "    x239 = N_239[i]-N_239_err[i]*N_239[i]\n",
    "    x241 = N_241[i]-N_241_err[i]*N_241[i]\n",
    "    \n",
    "    e_sum = e_235*x235+e_238*x238+e_239*x239+e_241*x241\n",
    "    total_early_s.append(e_factor_s*e_sum)"
   ]
  },
  {
   "cell_type": "code",
   "execution_count": 63,
   "id": "d65372a4",
   "metadata": {},
   "outputs": [],
   "source": [
    "### Upper Error"
   ]
  },
  {
   "cell_type": "code",
   "execution_count": 64,
   "id": "ab4441f9",
   "metadata": {},
   "outputs": [],
   "source": [
    "# Energy per Fission\n",
    "E_235_b = 202.36-0.26    #MeV\n",
    "E_238_b = 205.99-0.52    #MeV\n",
    "E_239_b = 211.12-0.34    #MeV\n",
    "E_241_b = 214.26-0.33    #MeV\n",
    "e_factor_b = W_th/(e_235*E_235_b+e_238*E_238_b+e_239*E_239_b+e_241*E_241_b)"
   ]
  },
  {
   "cell_type": "code",
   "execution_count": 65,
   "id": "0250e70d",
   "metadata": {},
   "outputs": [],
   "source": [
    "# Calculate Error\n",
    "total_early_b = []\n",
    "\n",
    "for i in range(len(energy)) :\n",
    "    x235 = N_235[i]+N_235_err[i]*N_235[i]\n",
    "    x238 = N_238[i]+N_239_err[i]*N_238[i]\n",
    "    x239 = N_239[i]+N_239_err[i]*N_239[i]\n",
    "    x241 = N_241[i]+N_241_err[i]*N_241[i]\n",
    "    \n",
    "    e_sum = e_235*x235+e_238*x238+e_239*x239+e_241*x241\n",
    "    total_early_b.append(e_factor_b*e_sum)"
   ]
  },
  {
   "cell_type": "code",
   "execution_count": 66,
   "id": "c9615fbc",
   "metadata": {},
   "outputs": [],
   "source": [
    "### Finding Average Error"
   ]
  },
  {
   "cell_type": "code",
   "execution_count": 67,
   "id": "7c771a50",
   "metadata": {},
   "outputs": [],
   "source": [
    "small_err = []\n",
    "big_err = []\n",
    "\n",
    "for i in range(len(energy)) :\n",
    "    small_err.append((total_early[i]-total_early_s[i])/total_early[i])\n",
    "    big_err.append((total_early_b[i]-total_early[i])/total_early[i])\n",
    "    "
   ]
  },
  {
   "cell_type": "code",
   "execution_count": 68,
   "id": "8a59703a",
   "metadata": {},
   "outputs": [],
   "source": [
    "lower_error = np.mean(small_err)\n",
    "upper_error = np.mean(big_err)"
   ]
  },
  {
   "cell_type": "code",
   "execution_count": null,
   "id": "98566950",
   "metadata": {},
   "outputs": [],
   "source": []
  }
 ],
 "metadata": {
  "kernelspec": {
   "display_name": "CEvNS",
   "language": "python",
   "name": "cevns"
  },
  "language_info": {
   "codemirror_mode": {
    "name": "ipython",
    "version": 3
   },
   "file_extension": ".py",
   "mimetype": "text/x-python",
   "name": "python",
   "nbconvert_exporter": "python",
   "pygments_lexer": "ipython3",
   "version": "3.10.9"
  }
 },
 "nbformat": 4,
 "nbformat_minor": 5
}
